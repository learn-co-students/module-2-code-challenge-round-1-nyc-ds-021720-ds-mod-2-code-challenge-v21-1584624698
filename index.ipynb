{
 "cells": [
  {
   "cell_type": "markdown",
   "metadata": {},
   "source": [
    "# Module 2 Code Challenge"
   ]
  },
  {
   "cell_type": "markdown",
   "metadata": {},
   "source": [
    "Welcome to your Module 2 Code Challenge. This code challenge is designed to test your understanding of the Module 2 material. It covers:\n",
    "\n",
    "- Statistical Distributions\n",
    "- Statistical Tests\n",
    "- Bayesian Statistics\n",
    "- Linear Regression\n",
    "\n",
    "_Read the instructions carefully_. You will be asked both to write code and respond to a few short answer questions.\n",
    "\n",
    "### Note on the short answer questions: \n",
    "\n",
    "For the short answer questions _please use your own words_. The expectation is that you have **not** copied and pasted from an external source, even if you consult another source to help craft your response. While the short answer questions are not necessarily being assessed on grammatical correctness or sentence structure, you should do your best to communicate yourself clearly."
   ]
  },
  {
   "cell_type": "code",
   "execution_count": 1,
   "metadata": {},
   "outputs": [],
   "source": [
    "# Run this cell without changes to import the necessary libraries\n",
    "\n",
    "# Use any additional libraries you like to complete this assessment \n",
    "\n",
    "import itertools\n",
    "import numpy as np\n",
    "import pandas as pd \n",
    "from scipy import stats\n",
    "import matplotlib.pyplot as plt\n",
    "import seaborn as sns\n",
    "%matplotlib inline\n",
    "\n",
    "import pickle\n",
    "\n",
    "from sklearn.metrics import mean_squared_error, roc_curve, roc_auc_score, accuracy_score\n",
    "from sklearn.linear_model import LinearRegression\n",
    "from sklearn.model_selection import train_test_split\n",
    "from sklearn.preprocessing import PolynomialFeatures\n",
    "from sklearn.preprocessing import StandardScaler\n",
    "import statsmodels.api as sm\n",
    "from statsmodels.formula.api import ols"
   ]
  },
  {
   "cell_type": "markdown",
   "metadata": {},
   "source": [
    "---\n",
    "## Part 1: Statistical Distributions [Suggested time: 25 minutes]\n",
    "---"
   ]
  },
  {
   "cell_type": "markdown",
   "metadata": {},
   "source": [
    "### Normal Distributions\n",
    "\n",
    "Say we have check totals for all checks ever written at a TexMex restaurant. \n",
    "\n",
    "The distribution for this population of check totals happens to be normally distributed with a population mean of $\\mu = 20$ and population standard deviation of $\\sigma = 2$. "
   ]
  },
  {
   "cell_type": "markdown",
   "metadata": {},
   "source": [
    "### 1.1) Write a function to compute the z-scores for single check of amount `check_amt`."
   ]
  },
  {
   "cell_type": "code",
   "execution_count": null,
   "metadata": {},
   "outputs": [],
   "source": [
    "# Replace `pass` with appropriate code\n",
    "\n",
    "\n",
    "\n",
    "def z_score(check_amt):\n",
    "    \"\"\"\n",
    "    check_amt = the amount for which we want to compute the z-score\n",
    "    \"\"\"\n",
    "    if z = \n",
    "    \n",
    "    \n",
    "    pass\n",
    "\n"
   ]
  },
  {
   "cell_type": "markdown",
   "metadata": {},
   "source": [
    "### 1.2) Use your function to compute the z-score for a 24 dollar check, and interpret the result using the empirical rule. "
   ]
  },
  {
   "cell_type": "code",
   "execution_count": 18,
   "metadata": {},
   "outputs": [
    {
     "name": "stdout",
     "output_type": "stream",
     "text": [
      "0.9772498680518208\n"
     ]
    }
   ],
   "source": [
    "# Code here \n",
    "import scipy.stats as stats\n",
    "from math import sqrt\n",
    "\n",
    "mu = 20\n",
    "sigma = 2\n",
    "n = 1\n",
    "x_bar = 24\n",
    "z = (x_bar - mu)/(sigma/sqrt(n))\n",
    "z\n",
    "\n",
    "print(stats.norm.cdf(z))\n"
   ]
  },
  {
   "cell_type": "code",
   "execution_count": null,
   "metadata": {},
   "outputs": [],
   "source": [
    "\"\"\"\n",
    "There is a 97.7% likelyhood that sample mean lie\n",
    "\"\"\""
   ]
  },
  {
   "cell_type": "markdown",
   "metadata": {},
   "source": [
    "### 1.3) Using $\\alpha = 0.05$, is the 24 dollar check significantly _greater_ than the mean? How do you know this?  \n",
    "\n",
    "For reference, here is a link to a [z-table](https://www.math.arizona.edu/~rsims/ma464/standardnormaltable.pdf). "
   ]
  },
  {
   "cell_type": "code",
   "execution_count": null,
   "metadata": {},
   "outputs": [],
   "source": [
    "# Code here \n",
    "\n"
   ]
  },
  {
   "cell_type": "code",
   "execution_count": null,
   "metadata": {},
   "outputs": [],
   "source": [
    "\"\"\"\n",
    "Written answer here\n",
    "\n",
    "Ho: dollar check = mean \n",
    "Ha: dollar check > mean \n",
    "One Sample T-test (one tailed qith q= .95)\n",
    "\"\"\""
   ]
  },
  {
   "cell_type": "markdown",
   "metadata": {},
   "source": [
    "### Confidence Intervals and the Central Limit Theorem"
   ]
  },
  {
   "cell_type": "markdown",
   "metadata": {},
   "source": [
    "### 1.4) Determine the 95% confidence interval around the mean check total for this population. Interpret your result. "
   ]
  },
  {
   "cell_type": "code",
   "execution_count": 39,
   "metadata": {},
   "outputs": [
    {
     "name": "stdout",
     "output_type": "stream",
     "text": [
      "24.392\n",
      "23.608\n"
     ]
    }
   ],
   "source": [
    "# Code here \n",
    "sample_mean = 24 \n",
    "sigma = 2\n",
    "n= 100\n",
    "moe = z*(sigma/sqrt(n))\n",
    "z = 1.96 # z critical value of 2 standard deviations away from the mean\n",
    "#stats.norm.ppf(q, loc=0, scale=1)\n",
    "confidence_int_upper = sample_mean + moe\n",
    "confidence_int_lower = sample_mean - moe\n",
    "print(confidence_int_upper)\n",
    "print(confidence_int_lower)"
   ]
  },
  {
   "cell_type": "code",
   "execution_count": null,
   "metadata": {},
   "outputs": [],
   "source": [
    "\"\"\"\n",
    "Written answer here\n",
    "\n",
    "\n",
    "\"\"\""
   ]
  },
  {
   "cell_type": "markdown",
   "metadata": {},
   "source": [
    "### 1.5) Imagine that we didn't know how the population of check totals was distributed. How would _sampling_ and the _Central Limit Theorem_ allow us to make inferences on the population mean, i.e. estimate $\\mu, \\sigma$ of the population mean?"
   ]
  },
  {
   "cell_type": "code",
   "execution_count": null,
   "metadata": {},
   "outputs": [],
   "source": [
    "\"\"\"\n",
    "Written answer here\n",
    "CLT basically states that for a sufficiently large sample, the sample statistics like mean and std deviation can be used to infer the population mean and population std deviation.\n",
    "If we take repeated samples of a population,  the sampling distribution of sample means will approximate to a normal distribution, even if the population data is not normally distributed.And we can use the normality of sampling distribution to make inferences about the population mean & sigma.\n",
    "\n",
    "\"\"\""
   ]
  },
  {
   "cell_type": "markdown",
   "metadata": {},
   "source": [
    "---\n",
    "## Part 2: Statistical Testing [Suggested time: 15 minutes]\n",
    "---"
   ]
  },
  {
   "cell_type": "markdown",
   "metadata": {},
   "source": [
    "The TexMex restaurant recently introduced queso to its menu.\n",
    "\n",
    "We have random samples of 1000 \"no queso\" order check totals and 1000 \"queso\" order check totals for orders made by different customers.\n",
    "\n",
    "In the cell below, we load the sample data for you into the arrays `no_queso` and `queso` for the \"no queso\" and \"queso\" order check totals, respectively. Then, we create histograms of the distribution of the check amounts for the \"no queso\" and \"queso\" samples. "
   ]
  },
  {
   "cell_type": "code",
   "execution_count": 12,
   "metadata": {},
   "outputs": [
    {
     "data": {
      "image/png": "[encoded data removed]",
      "text/plain": [
       "<Figure size 864x288 with 2 Axes>"
      ]
     },
     "metadata": {
      "needs_background": "light"
     },
     "output_type": "display_data"
    }
   ],
   "source": [
    "# Run this cell without changes\n",
    "\n",
    "# Load the sample data \n",
    "no_queso = pickle.load(open('data/no_queso.pkl', 'rb'))\n",
    "queso = pickle.load(open('data/queso.pkl', 'rb'))\n",
    "\n",
    "# Plot histograms\n",
    "\n",
    "fig, (ax1, ax2) = plt.subplots(1, 2, figsize=(12, 4))\n",
    "\n",
    "ax1.set_title('Sample of Non-Queso Check Totals')\n",
    "ax1.set_xlabel('Amount')\n",
    "ax1.set_ylabel('Frequency')\n",
    "ax1.hist(no_queso, bins=20)\n",
    "\n",
    "ax2.set_title('Sample of Queso Check Totals')\n",
    "ax2.set_xlabel('Amount')\n",
    "ax2.set_ylabel('Frequency')\n",
    "ax2.hist(queso, bins=20)\n",
    "plt.show()"
   ]
  },
  {
   "cell_type": "code",
   "execution_count": 23,
   "metadata": {},
   "outputs": [
    {
     "name": "stderr",
     "output_type": "stream",
     "text": [
      "/Users/sujata/Desktop/flatiron/anaconda3/lib/python3.7/site-packages/ipykernel_launcher.py:1: ParserWarning: Falling back to the 'python' engine because the 'c' engine does not support regex separators (separators > 1 char and different from '\\s+' are interpreted as regex); you can avoid this warning by specifying engine='python'.\n",
      "  \"\"\"Entry point for launching an IPython kernel.\n"
     ]
    }
   ],
   "source": [
    "no_queso_df = pd.read_csv('data/no_queso.pkl', 'rb')\n",
    "\n",
    "# need to convert histogram into df.summary to get n, standard deviation etc\n",
    "\n"
   ]
  },
  {
   "cell_type": "code",
   "execution_count": 31,
   "metadata": {},
   "outputs": [
    {
     "name": "stdout",
     "output_type": "stream",
     "text": [
      "1000\n"
     ]
    },
    {
     "data": {
      "text/plain": [
       "array([20.76208262, 19.05591169, 23.60883165, 18.86548483, 20.1789019 ,\n",
       "       23.99491885, 20.83968986, 21.4196737 , 23.18272129, 19.51304723,\n",
       "       20.13113424, 19.33255256, 22.02801213, 18.29757387, 21.5205384 ,\n",
       "       20.36246988, 15.36369287, 22.14506588, 20.74096877, 21.34613048,\n",
       "       19.04649928, 21.19421907, 18.05346712, 19.2460241 , 20.89018538,\n",
       "       20.32616936, 20.12840299, 22.5123332 , 21.12502229, 20.81840909,\n",
       "       20.8493497 , 21.85997954, 20.70179038, 15.94821923, 18.71995485,\n",
       "       19.45120616, 20.26613608, 19.60064071, 21.43618496, 21.06875426,\n",
       "       19.09333362, 15.47326799, 15.71881468, 20.57883631, 19.3065353 ,\n",
       "       17.8447982 , 17.64383574, 20.16732761, 22.20487025, 20.15068564,\n",
       "       19.02025688, 19.16883799, 19.23658427, 22.04059674, 20.34058307,\n",
       "       21.46508589, 24.52706282, 23.86234975, 18.10425805, 17.29910567,\n",
       "       21.63024792, 19.12781092, 19.99376256, 19.19692644, 15.32107239,\n",
       "       19.13340171, 20.62452759, 20.59388838, 21.27382898, 18.1881541 ,\n",
       "       20.19226479, 21.31614782, 22.58509101, 19.39509475, 19.05728898,\n",
       "       20.03536139, 22.68131733, 20.41139425, 22.02507957, 19.05591169,\n",
       "       14.70664829, 21.40406524, 22.78370445, 19.46843419, 22.82605049,\n",
       "       21.86300018, 18.08263316, 20.16732761, 21.03559139, 21.58683557,\n",
       "       22.84590928, 24.09779885, 22.88399426, 21.31614782, 19.18011333,\n",
       "       20.62030415, 22.25681716, 22.05636236, 17.45753631, 22.38626703,\n",
       "       20.40229779, 19.3586181 , 19.9176511 , 19.21525375, 21.52561791,\n",
       "       23.68799761, 21.58996627, 21.33284223, 16.01040124, 18.86548483,\n",
       "       21.18469295, 22.70021032, 16.65095777, 20.11274454, 17.44553049,\n",
       "       21.67836288, 21.27452176, 20.48828564, 19.2591765 , 22.16345175,\n",
       "       19.35927524, 22.50615622, 17.18448771, 22.00915209, 20.12898218,\n",
       "       23.08598432, 19.98014856, 16.84027528, 20.55088483, 19.00317116,\n",
       "       17.93516634, 22.52692609, 18.23249589, 18.59078333, 19.88957927,\n",
       "       18.21490686, 22.77136929, 24.41773973, 16.51384518, 19.54663533,\n",
       "       22.65297613, 19.6945075 , 17.49962667, 20.42681288, 20.17980042,\n",
       "       19.34856394, 19.27907654, 17.57739078, 19.30369414, 23.10132113,\n",
       "       18.7009033 , 19.28041082, 18.65440447, 18.16995217, 21.65946296,\n",
       "       17.85653041, 21.89765853, 21.04487844, 22.66725549, 15.18547407,\n",
       "       21.66562787, 20.29514194, 21.32028684, 20.90796685, 19.19088728,\n",
       "       21.12417904, 22.10790621, 21.67715224, 19.25306231, 19.40707469,\n",
       "       19.6722011 , 20.32961264, 16.37639605, 19.68645148, 21.16412219,\n",
       "       19.55986114, 16.21401625, 18.68021741, 19.82917331, 17.5692611 ,\n",
       "       19.96401525, 19.98014856, 19.08205955, 19.38687908, 18.22079415,\n",
       "       18.69344514, 20.8902807 , 21.71466632, 20.6180478 , 19.90871793,\n",
       "       22.51846791, 22.9090713 , 19.69953301, 20.71293788, 20.64342418,\n",
       "       21.77491467, 24.19270936, 19.20709949, 16.40204624, 21.61485414,\n",
       "       21.11294117, 19.63185319, 19.04662155, 19.17287725, 22.79863397,\n",
       "       19.67530943, 21.51594258, 19.73249942, 22.1323641 , 20.82732358,\n",
       "       21.90448086, 18.16258478, 18.32606905, 17.56899826, 20.91098711,\n",
       "       16.25030032, 20.08114747, 21.71901472, 20.56080375, 16.51006966,\n",
       "       18.78500536, 20.96269579, 17.25002509, 23.06999193, 18.8868536 ,\n",
       "       19.6232313 , 20.1236503 , 17.7363711 , 22.62507086, 19.1832676 ,\n",
       "       21.66708958, 21.48803377, 23.78290383, 20.14066682, 20.31989896,\n",
       "       24.0022939 , 16.65095777, 19.42331651, 19.79876508, 22.48590901,\n",
       "       18.66046632, 19.764585  , 16.63953781, 16.06107024, 20.87643084,\n",
       "       20.57881021, 19.8432444 , 23.20604822, 23.05116118, 21.89434111,\n",
       "       17.90054703, 17.89098667, 20.66400815, 16.99262414, 18.14583535,\n",
       "       18.75254767, 18.50981279, 23.50562156, 19.08393323, 21.33367039,\n",
       "       21.66578432, 19.83801381, 20.41139425, 23.77357026, 19.67860475,\n",
       "       19.4990573 , 20.01792608, 20.57943082, 18.42342418, 22.34704416,\n",
       "       19.68620814, 17.84767381, 19.74289088, 21.42301789, 20.99637717,\n",
       "       17.94112246, 19.57907895, 22.61895511, 20.29717932, 19.04649928,\n",
       "       20.65308473, 20.95833266, 16.24816954, 17.10981075, 17.05632705,\n",
       "       21.25437638, 17.18424366, 20.4066734 , 21.61985995, 21.62178997,\n",
       "       20.48477647, 17.16705618, 21.04487844, 17.09880661, 22.76556738,\n",
       "       22.65256716, 21.17960352, 23.11120961, 19.0801575 , 21.42394592,\n",
       "       20.24924989, 17.75009037, 18.43288561, 19.6213881 , 18.98029002,\n",
       "       18.27013345, 23.54636246, 19.18295455, 18.14054427, 16.10376764,\n",
       "       20.91594254, 17.9611555 , 17.29812065, 21.38196436, 16.90464287,\n",
       "       19.46044487, 19.71015327, 20.18691496, 21.0853786 , 14.4987349 ,\n",
       "       21.63142065, 17.85816881, 21.24125195, 21.32542327, 20.39915474,\n",
       "       23.57397681, 19.93942711, 20.70524743, 19.58476377, 21.55415381,\n",
       "       19.58882193, 16.49856557, 21.25370119, 21.51295982, 20.59376312,\n",
       "       18.13748402, 19.91049334, 17.96339801, 20.19752536, 19.28093942,\n",
       "       18.66749225, 19.12892417, 19.90409443, 17.199091  , 21.0392079 ,\n",
       "       20.37712582, 18.50444977, 18.87444134, 19.1658763 , 20.32778694,\n",
       "       18.85086118, 20.66519602, 21.87372741, 18.97044156, 21.66708958,\n",
       "       20.65465371, 19.1777378 , 18.93520138, 19.60781268, 20.36246988,\n",
       "       21.18240471, 19.63113194, 22.01486567, 15.81530616, 22.34968951,\n",
       "       20.31398513, 22.7131654 , 17.07061971, 21.33284223, 21.27880171,\n",
       "       20.52946671, 20.60310088, 19.17761289, 19.92051962, 19.33255256,\n",
       "       16.7841584 , 18.31038397, 23.16827985, 18.28537357, 20.63376744,\n",
       "       16.49329313, 19.08388913, 20.56657047, 18.90532298, 20.39577071,\n",
       "       19.88995219, 26.28028481, 19.71313218, 20.89972931, 20.76257442,\n",
       "       20.58414814, 18.9612321 , 16.22403651, 21.08215324, 21.88823055,\n",
       "       20.62263197, 18.1505547 , 18.8910575 , 19.764585  , 17.83729608,\n",
       "       19.29787829, 21.31727164, 19.38576206, 15.91993266, 22.45204671,\n",
       "       21.82606171, 26.19381896, 20.64676199, 21.76540611, 20.26477705,\n",
       "       17.01662189, 18.08716661, 16.64798818, 21.87428236, 19.25531862,\n",
       "       17.83763262, 21.88434331, 22.77034996, 20.60870978, 20.51241827,\n",
       "       19.74628006, 20.82975202, 19.54697551, 16.40103934, 19.99834542,\n",
       "       21.22178592, 22.23599675, 19.31470961, 21.31722025, 16.8682708 ,\n",
       "       18.91783233, 19.7411647 , 16.3833706 , 20.92298103, 20.39453233,\n",
       "       18.41960531, 20.7919327 , 23.43777789, 17.27160448, 19.27811563,\n",
       "       18.93245569, 18.65650714, 23.06923449, 22.62092976, 20.94271629,\n",
       "       20.96689128, 18.27922856, 18.21725314, 21.22226908, 20.09435277,\n",
       "       20.57020357, 21.51295982, 22.08307659, 23.99491885, 19.04249772,\n",
       "       21.73806396, 22.66725549, 18.26106361, 19.42296697, 21.5567301 ,\n",
       "       21.84284635, 22.86933435, 21.70866146, 19.37510654, 19.90871793,\n",
       "       16.51952363, 21.28746377, 21.9077587 , 20.72643163, 17.25594907,\n",
       "       17.78066931, 18.44516158, 20.68960377, 20.04834391, 17.83650495,\n",
       "       23.13122232, 18.7860022 , 19.78961922, 19.81546362, 15.70179675,\n",
       "       20.50877402, 19.23814882, 21.50133943, 21.79538821, 17.90575468,\n",
       "       21.61113189, 19.07630939, 22.93895422, 20.08372887, 22.33759272,\n",
       "       17.6962692 , 17.41674665, 18.98768013, 19.8915414 , 23.07694575,\n",
       "       21.35496297, 21.36281221, 21.15302059, 16.94184721, 19.98362438,\n",
       "       22.54690789, 18.8742956 , 17.94997658, 22.49307249, 21.27382898,\n",
       "       20.29258474, 20.44320326, 20.26613608, 17.62079155, 20.83488683,\n",
       "       20.08114747, 24.28880413, 19.6839419 , 17.58186154, 17.49252748,\n",
       "       20.6057742 , 16.4794471 , 22.10246444, 18.60887343, 21.00955642,\n",
       "       20.18055906, 21.11865856, 19.94238963, 21.42927489, 18.32718178,\n",
       "       23.206395  , 21.4196737 , 20.71401158, 17.39493344, 21.94639976,\n",
       "       22.05636236, 19.29728342, 20.25149904, 25.12164216, 16.1661313 ,\n",
       "       20.76705029, 21.38622493, 21.41422366, 21.38091834, 19.40859415,\n",
       "       19.42906851, 21.28573356, 16.37639605, 22.25052899, 18.63921122,\n",
       "       23.81906803, 19.78961922, 23.60430993, 19.81770793, 18.26641224,\n",
       "       21.62042257, 20.84818309, 19.66298341, 18.99592205, 19.61608943,\n",
       "       13.65052983, 20.12169836, 16.24816954, 17.78196518, 19.90418185,\n",
       "       20.48908252, 22.30128895, 18.32325892, 20.83252303, 17.96384414,\n",
       "       21.50564386, 17.99108531, 17.62452806, 22.48134541, 20.65193432,\n",
       "       20.34321203, 20.29389022, 23.99983332, 21.52847065, 18.43394938,\n",
       "       21.73463244, 21.42244685, 21.86954717, 22.69980868, 18.99700805,\n",
       "       15.38147285, 18.97651979, 17.29383971, 23.30142363, 20.98923772,\n",
       "       20.38778033, 19.97119623, 21.43064125, 21.93242378, 16.72610791,\n",
       "       18.15316729, 20.37132995, 18.82128713, 20.88263201, 23.53721728,\n",
       "       19.09241117, 24.20955096, 21.28746377, 17.1109657 , 22.69304789,\n",
       "       19.63168764, 22.12602132, 18.68021741, 17.86654363, 19.9607514 ,\n",
       "       20.70302146, 19.02306321, 20.68395412, 20.14703346, 20.99978111,\n",
       "       22.27703692, 20.9114624 , 19.81546362, 19.9882093 , 23.1918496 ,\n",
       "       19.94707797, 17.19994945, 20.63165872, 21.2350903 , 24.52842952,\n",
       "       20.8493497 , 19.68645148, 21.13945092, 20.73350415, 20.49207597,\n",
       "       19.41317788, 21.82853152, 22.38819793, 20.50562962, 18.76584477,\n",
       "       18.04729258, 20.67377304, 18.36359133, 20.92964808, 22.93027699,\n",
       "       18.83041053, 20.63118259, 18.73421447, 22.7958576 , 21.32846532,\n",
       "       21.47822153, 19.62981045, 19.12650135, 19.91551368, 21.53190947,\n",
       "       16.47338878, 21.73263734, 20.94028492, 22.58565173, 20.54849079,\n",
       "       17.43657168, 24.43706903, 17.56954684, 15.35081524, 16.61245092,\n",
       "       18.15591149, 18.66749225, 20.93288403, 20.61203212, 20.49545383,\n",
       "       20.08087223, 20.58978241, 18.03756583, 18.90349804, 21.83591558,\n",
       "       17.17078739, 21.21704286, 21.57381295, 19.11325502, 17.54711271,\n",
       "       18.82896889, 19.78308784, 18.82378226, 18.14262334, 17.52817973,\n",
       "       17.90352529, 19.36549187, 24.18523658, 21.00831033, 19.45631603,\n",
       "       19.56810266, 15.09364988, 18.98528729, 20.91836855, 20.49878098,\n",
       "       18.59339512, 21.4435538 , 18.37770676, 20.9185071 , 19.96386502,\n",
       "       20.57613202, 19.51053114, 18.61553304, 21.43658038, 21.08621077,\n",
       "       17.54919364, 18.59618475, 17.14702068, 18.67761435, 15.71204331,\n",
       "       19.29883772, 21.66578432, 19.50033489, 19.71115976, 16.59747742,\n",
       "       17.50314276, 23.94936132, 20.78766339, 24.57158486, 19.57466072,\n",
       "       20.94525277, 18.87204771, 18.34207135, 20.26654267, 21.68889707,\n",
       "       18.03331872, 23.33674881, 23.22723663, 17.89189522, 23.11579547,\n",
       "       19.07443731, 18.04365436, 20.63885532, 19.20883218, 23.01753675,\n",
       "       21.10190156, 17.37821403, 19.8475618 , 18.2040921 , 21.42078998,\n",
       "       19.0988345 , 22.17041827, 21.93978227, 17.89578386, 19.61491472,\n",
       "       18.66021184, 17.36377603, 20.44860212, 20.40735078, 20.58261075,\n",
       "       24.03099683, 21.93839651, 21.15765604, 18.50981279, 15.9201895 ,\n",
       "       22.42730007, 21.81199257, 20.2950183 , 18.04219898, 18.66021184,\n",
       "       22.33804642, 18.4109398 , 20.1060308 , 20.95466293, 19.22964799,\n",
       "       22.02979156, 21.17159538, 19.8484696 , 16.48150259, 19.89241165,\n",
       "       20.39577071, 21.42731132, 21.66363473, 19.03429324, 18.4171497 ,\n",
       "       20.00768734, 22.92266704, 22.50460259, 20.19752536, 20.43231609,\n",
       "       18.5947252 , 21.24123726, 18.43856718, 20.18828654, 17.93310059,\n",
       "       20.91836855, 18.86938861, 17.17283382, 20.1061543 , 18.63921122,\n",
       "       21.36281221, 18.87776179, 22.01631367, 20.14761855, 20.81132916,\n",
       "       22.77170096, 20.5074394 , 20.08901165, 20.38053994, 22.77170096,\n",
       "       19.3259543 , 20.79586952, 20.33391071, 19.73319075, 23.57572768,\n",
       "       21.12151814, 21.08783648, 20.11299704, 20.43460754, 18.11280655,\n",
       "       17.71050818, 18.09462322, 23.15748962, 22.72444395, 23.88819448,\n",
       "       17.87309423, 18.33812042, 22.7158868 , 22.37173724, 19.84797688,\n",
       "       20.18105556, 23.30625413, 20.50855506, 16.77753117, 19.72641691,\n",
       "       22.03461388, 22.85714407, 21.32520234, 20.46642083, 17.0339164 ,\n",
       "       16.33174117, 19.77519506, 18.93245569, 19.52557581, 19.40552902,\n",
       "       19.30098219, 19.12104412, 19.01705905, 18.17821538, 19.02344986,\n",
       "       18.93826138, 22.27038408, 20.40539691, 17.27199941, 20.03075902,\n",
       "       20.62082989, 20.69665364, 19.70407449, 18.62273965, 22.58323058,\n",
       "       19.6686264 , 19.40076903, 24.15181034, 19.45964952, 17.0339164 ,\n",
       "       20.79221652, 18.03756583, 22.04598303, 21.4949787 , 20.23673182,\n",
       "       21.05339355, 23.18098639, 22.02073651, 20.79143843, 17.10317666,\n",
       "       20.03975463, 16.61634703, 19.26100229, 18.24855671, 18.02325418,\n",
       "       19.81486762, 19.70988598, 19.2190581 , 20.63951352, 18.32710658,\n",
       "       19.1006225 , 20.51360657, 16.601003  , 18.89007699, 18.48954461,\n",
       "       21.35950272, 16.82874324, 21.63384959, 20.94359305, 19.2551301 ,\n",
       "       15.78648817, 18.10598406, 23.24789576, 19.78308784, 17.46722283,\n",
       "       21.10844997, 21.52045044, 20.64173559, 17.5692611 , 21.5567301 ,\n",
       "       17.91411413, 19.06992393, 21.45633716, 20.42511018, 20.08609148,\n",
       "       20.60563315, 20.31953737, 17.72285286, 22.48656577, 18.14543642,\n",
       "       20.50562962, 18.07205753, 22.89099303, 21.33750742, 19.97195319,\n",
       "       18.60695855, 23.29801202, 17.54324992, 18.66636158, 22.56501617,\n",
       "       21.51570579, 19.94976102, 23.00237347, 22.22829263, 24.07779873,\n",
       "       18.6773417 , 19.02598209, 17.37843656, 21.27645076, 19.87768883,\n",
       "       18.75926711, 19.66615297, 19.92571877, 21.60580612, 22.27134112,\n",
       "       21.86009634, 18.83156974, 19.60468402, 21.87513283, 20.6666365 ,\n",
       "       17.75694069, 20.00366664, 21.0130074 , 19.07994235, 15.99526861,\n",
       "       21.05635221, 19.6934558 , 20.66044909, 20.00228993, 17.5160751 ,\n",
       "       17.9923129 , 19.74507657, 17.98480622, 19.44617163, 20.0491104 ,\n",
       "       19.46352326, 22.23586773, 18.34131014, 21.71852028, 24.72339676,\n",
       "       21.28573356, 17.29812065, 17.4898486 , 19.1832676 , 19.68620814,\n",
       "       17.99687604, 19.35517059, 22.36895813, 17.10981075, 19.65984473,\n",
       "       20.00153461, 19.89938391, 22.94704798, 21.0414223 , 20.23701121,\n",
       "       21.073227  , 20.35900477, 18.9612321 , 22.10632748, 20.58491577,\n",
       "       18.0979636 , 20.53307236, 17.6962692 , 20.62578142, 23.14509976,\n",
       "       20.84970536, 19.48400873, 20.13813882, 18.60695855, 24.52842952,\n",
       "       22.12602132, 21.62178997, 20.61261137, 21.99011064, 19.4379886 ,\n",
       "       17.74711185, 20.42581548, 21.82853152, 17.28909476, 19.25574627,\n",
       "       19.18246573, 19.45654531, 18.88929966, 20.51896899, 19.33668698,\n",
       "       20.42974054, 17.76005414, 20.89109634, 18.74785501, 16.67634877,\n",
       "       21.61661465, 19.79411903, 19.70528257, 24.25792231, 18.05415836])"
      ]
     },
     "execution_count": 31,
     "metadata": {},
     "output_type": "execute_result"
    }
   ],
   "source": [
    "\n",
    "no_queso\n"
   ]
  },
  {
   "cell_type": "code",
   "execution_count": 32,
   "metadata": {},
   "outputs": [
    {
     "name": "stdout",
     "output_type": "stream",
     "text": [
      "1000\n"
     ]
    }
   ],
   "source": [
    "print(len(no_queso))"
   ]
  },
  {
   "cell_type": "markdown",
   "metadata": {},
   "source": [
    "### Hypotheses and Errors\n",
    "\n",
    "The restaurant owners want to know if customers who order queso spend **more or less** than customers who do not order queso.\n",
    "\n",
    "### 2.1) Set up the null $H_{0}$ and alternative hypotheses $H_{A}$ for this test."
   ]
  },
  {
   "cell_type": "code",
   "execution_count": null,
   "metadata": {},
   "outputs": [],
   "source": [
    "\"\"\"\n",
    "Written answer here\n",
    "\n",
    "Ho: Mean revenues for Queso orders are the same as mean revenues for Not Queso orders\n",
    "Ha: There is a statistically significant difference in mean revenue for Queso when compared to mean revenue for Not Queso orders\n",
    "\"\"\"\"\n",
    "\n"
   ]
  },
  {
   "cell_type": "markdown",
   "metadata": {},
   "source": [
    "### 2.2) What does it mean to make `Type I` and `Type II` errors in this specific context?"
   ]
  },
  {
   "cell_type": "code",
   "execution_count": null,
   "metadata": {},
   "outputs": [],
   "source": [
    "\"\"\"\n",
    "Written answer here\n",
    "\n",
    "\n",
    "Type 1 error would be reject the null hypothesis when it is true - \n",
    "that is we believe there is no difference in mean revenue between the two types of order when a difference actually exists.\n",
    "\n",
    "Type 2 error would be fail to reject the null hypothesis when it is false - that is to say there is statistically significant difference in \n",
    "mean revenues between the two types of orders and we fail to accept the alternate hypothesis when its correct.\n",
    "\n",
    "\"\"\""
   ]
  },
  {
   "cell_type": "markdown",
   "metadata": {},
   "source": [
    "### Sample Testing"
   ]
  },
  {
   "cell_type": "markdown",
   "metadata": {},
   "source": [
    "### 2.3) Run a statistical test on the two samples. Can you reject the null hypothesis? \n",
    "\n",
    "Use a significance level of $\\alpha = 0.05$. You can assume the two samples have equal variance.\n",
    "\n",
    "You can use `scipy.stats` to find the answer if you like.  It has already been imported as `stats` and the statistical testing documentation can be found [here](https://docs.scipy.org/doc/scipy/reference/stats.html#statistical-tests)."
   ]
  },
  {
   "cell_type": "code",
   "execution_count": 26,
   "metadata": {},
   "outputs": [
    {
     "ename": "TypeError",
     "evalue": "object of type 'numpy.float64' has no len()",
     "output_type": "error",
     "traceback": [
      "\u001b[0;31m---------------------------------------------------------------------------\u001b[0m",
      "\u001b[0;31mTypeError\u001b[0m                                 Traceback (most recent call last)",
      "\u001b[0;32m<ipython-input-26-ae16369831c2>\u001b[0m in \u001b[0;36m<module>\u001b[0;34m\u001b[0m\n\u001b[1;32m     25\u001b[0m       \u001b[0;32mreturn\u001b[0m \u001b[0mnum\u001b[0m \u001b[0;34m/\u001b[0m \u001b[0mdenom\u001b[0m\u001b[0;34m\u001b[0m\u001b[0;34m\u001b[0m\u001b[0m\n\u001b[1;32m     26\u001b[0m \u001b[0;34m\u001b[0m\u001b[0m\n\u001b[0;32m---> 27\u001b[0;31m \u001b[0mt_stat\u001b[0m \u001b[0;34m=\u001b[0m \u001b[0mtwosample_tstatistic\u001b[0m\u001b[0;34m(\u001b[0m\u001b[0mqueso\u001b[0m\u001b[0;34m,\u001b[0m \u001b[0mno_queso\u001b[0m\u001b[0;34m)\u001b[0m\u001b[0;34m\u001b[0m\u001b[0;34m\u001b[0m\u001b[0m\n\u001b[0m\u001b[1;32m     28\u001b[0m \u001b[0mt_stat\u001b[0m\u001b[0;34m\u001b[0m\u001b[0;34m\u001b[0m\u001b[0m\n",
      "\u001b[0;32m<ipython-input-26-ae16369831c2>\u001b[0m in \u001b[0;36mtwosample_tstatistic\u001b[0;34m(queso, no_queso)\u001b[0m\n\u001b[1;32m     19\u001b[0m \u001b[0;32mdef\u001b[0m \u001b[0mtwosample_tstatistic\u001b[0m\u001b[0;34m(\u001b[0m\u001b[0mqueso\u001b[0m\u001b[0;34m,\u001b[0m \u001b[0mno_queso\u001b[0m\u001b[0;34m)\u001b[0m\u001b[0;34m:\u001b[0m\u001b[0;34m\u001b[0m\u001b[0;34m\u001b[0m\u001b[0m\n\u001b[1;32m     20\u001b[0m       \u001b[0mqueso\u001b[0m\u001b[0;34m,\u001b[0m \u001b[0mno_queso\u001b[0m \u001b[0;34m=\u001b[0m \u001b[0mnp\u001b[0m\u001b[0;34m.\u001b[0m\u001b[0mmean\u001b[0m\u001b[0;34m(\u001b[0m\u001b[0mqueso\u001b[0m\u001b[0;34m)\u001b[0m\u001b[0;34m,\u001b[0m \u001b[0mnp\u001b[0m\u001b[0;34m.\u001b[0m\u001b[0mmean\u001b[0m\u001b[0;34m(\u001b[0m\u001b[0mno_queso\u001b[0m\u001b[0;34m)\u001b[0m\u001b[0;34m\u001b[0m\u001b[0;34m\u001b[0m\u001b[0m\n\u001b[0;32m---> 21\u001b[0;31m       \u001b[0mpool_var\u001b[0m \u001b[0;34m=\u001b[0m \u001b[0mpooled_variance\u001b[0m\u001b[0;34m(\u001b[0m\u001b[0mqueso\u001b[0m\u001b[0;34m,\u001b[0m \u001b[0mno_queso\u001b[0m\u001b[0;34m)\u001b[0m\u001b[0;34m\u001b[0m\u001b[0;34m\u001b[0m\u001b[0m\n\u001b[0m\u001b[1;32m     22\u001b[0m       \u001b[0mn_e\u001b[0m\u001b[0;34m,\u001b[0m \u001b[0mn_c\u001b[0m \u001b[0;34m=\u001b[0m \u001b[0mlen\u001b[0m\u001b[0;34m(\u001b[0m\u001b[0mqueso\u001b[0m\u001b[0;34m)\u001b[0m\u001b[0;34m,\u001b[0m \u001b[0mlen\u001b[0m\u001b[0;34m(\u001b[0m\u001b[0mno_queso\u001b[0m\u001b[0;34m)\u001b[0m\u001b[0;34m\u001b[0m\u001b[0;34m\u001b[0m\u001b[0m\n\u001b[1;32m     23\u001b[0m       \u001b[0mnum\u001b[0m \u001b[0;34m=\u001b[0m \u001b[0mqueso_mean\u001b[0m \u001b[0;34m-\u001b[0m \u001b[0mno_queso_mean\u001b[0m\u001b[0;34m\u001b[0m\u001b[0;34m\u001b[0m\u001b[0m\n",
      "\u001b[0;32m<ipython-input-26-ae16369831c2>\u001b[0m in \u001b[0;36mpooled_variance\u001b[0;34m(queso, no_queso)\u001b[0m\n\u001b[1;32m     11\u001b[0m \u001b[0;34m\u001b[0m\u001b[0m\n\u001b[1;32m     12\u001b[0m \u001b[0;32mdef\u001b[0m \u001b[0mpooled_variance\u001b[0m\u001b[0;34m(\u001b[0m\u001b[0mqueso\u001b[0m\u001b[0;34m,\u001b[0m \u001b[0mno_queso\u001b[0m\u001b[0;34m)\u001b[0m\u001b[0;34m:\u001b[0m\u001b[0;34m\u001b[0m\u001b[0;34m\u001b[0m\u001b[0m\n\u001b[0;32m---> 13\u001b[0;31m     \u001b[0mn_1\u001b[0m\u001b[0;34m,\u001b[0m \u001b[0mn_2\u001b[0m \u001b[0;34m=\u001b[0m \u001b[0mlen\u001b[0m\u001b[0;34m(\u001b[0m\u001b[0mqueso\u001b[0m\u001b[0;34m)\u001b[0m\u001b[0;34m,\u001b[0m \u001b[0mlen\u001b[0m\u001b[0;34m(\u001b[0m\u001b[0mno_queso\u001b[0m\u001b[0;34m)\u001b[0m\u001b[0;34m\u001b[0m\u001b[0;34m\u001b[0m\u001b[0m\n\u001b[0m\u001b[1;32m     14\u001b[0m     \u001b[0mvar_1\u001b[0m\u001b[0;34m,\u001b[0m \u001b[0mvar_2\u001b[0m \u001b[0;34m=\u001b[0m \u001b[0msample_variance\u001b[0m\u001b[0;34m(\u001b[0m\u001b[0mqueso\u001b[0m\u001b[0;34m)\u001b[0m\u001b[0;34m,\u001b[0m \u001b[0msample_variance\u001b[0m\u001b[0;34m(\u001b[0m\u001b[0mno_queso\u001b[0m\u001b[0;34m)\u001b[0m\u001b[0;34m\u001b[0m\u001b[0;34m\u001b[0m\u001b[0m\n\u001b[1;32m     15\u001b[0m     \u001b[0;32mreturn\u001b[0m \u001b[0;34m(\u001b[0m\u001b[0;34m(\u001b[0m\u001b[0mn_1\u001b[0m\u001b[0;34m-\u001b[0m\u001b[0;36m1\u001b[0m\u001b[0;34m)\u001b[0m \u001b[0;34m*\u001b[0m \u001b[0mvar_1\u001b[0m \u001b[0;34m+\u001b[0m \u001b[0;34m(\u001b[0m\u001b[0mn_2\u001b[0m\u001b[0;34m-\u001b[0m\u001b[0;36m1\u001b[0m\u001b[0;34m)\u001b[0m\u001b[0;34m*\u001b[0m \u001b[0mvar_2\u001b[0m\u001b[0;34m)\u001b[0m\u001b[0;34m/\u001b[0m\u001b[0;34m(\u001b[0m\u001b[0;34m(\u001b[0m\u001b[0mn_1\u001b[0m \u001b[0;34m+\u001b[0m \u001b[0mn_2\u001b[0m\u001b[0;34m)\u001b[0m\u001b[0;34m-\u001b[0m\u001b[0;36m2\u001b[0m\u001b[0;34m)\u001b[0m\u001b[0;34m\u001b[0m\u001b[0;34m\u001b[0m\u001b[0m\n",
      "\u001b[0;31mTypeError\u001b[0m: object of type 'numpy.float64' has no len()"
     ]
    }
   ],
   "source": [
    "# Code here \n",
    "\n",
    "x_bar1_non_queso = 20\n",
    "x_bar2_queso = 24\n",
    "non_queso_sigma = 6\n",
    "queso_sigma = 6\n",
    "\n",
    "# def sample_variance(sample):\n",
    "#     sample_mean = np.mean(sample)\n",
    "#     return np.sum((sample - sample_mean) **2)/ (len(sample) -1)\n",
    "\n",
    "def pooled_variance(queso, no_queso):\n",
    "    n_1, n_2 = len(queso), len(no_queso)\n",
    "    var_1, var_2 = sample_variance(queso), sample_variance(no_queso)\n",
    "    return ((n_1-1) * var_1 + (n_2-1)* var_2)/((n_1 + n_2)-2)\n",
    "\n",
    "# we need to do a two sample T-test here (two tailed with alpha 0.05/2)\n",
    "\n",
    "def twosample_tstatistic(queso, no_queso):\n",
    "      queso, no_queso = np.mean(queso), np.mean(no_queso)\n",
    "      pool_var = pooled_variance(queso, no_queso)\n",
    "      n_e, n_c = len(queso), len(no_queso)\n",
    "      num = queso_mean - no_queso_mean\n",
    "      denom = np.sqrt(pool_var * ((1/n_e)+(1/n_c)))\n",
    "      return num / denom\n",
    "\n",
    "t_stat = twosample_tstatistic(queso, no_queso)\n",
    "t_stat"
   ]
  },
  {
   "cell_type": "code",
   "execution_count": null,
   "metadata": {},
   "outputs": [],
   "source": [
    "\"\"\"\n",
    "Written answer here\n",
    "\"\"\""
   ]
  },
  {
   "cell_type": "markdown",
   "metadata": {},
   "source": [
    "---\n",
    "## Part 3: Bayesian Statistics [Suggested time: 15 minutes]\n",
    "---\n",
    "### Bayes' Theorem"
   ]
  },
  {
   "cell_type": "markdown",
   "metadata": {},
   "source": [
    "Thomas wants to get a new puppy 🐕 🐶 🐩 \n",
    "\n",
    "\n",
    "<img src=\"https://media.giphy.com/media/rD8R00QOKwfxC/giphy.gif\" />\n",
    "\n",
    "He can choose to get his new puppy either from the pet store or the pound. The probability of him going to the pet store is $0.2$. \n",
    "\n",
    "He can choose to get either a large, medium or small puppy.\n",
    "\n",
    "If he goes to the pet store, the probability of him getting a small puppy is $0.6$. The probability of him getting a medium puppy is $0.3$, and the probability of him getting a large puppy is $0.1$.\n",
    "\n",
    "If he goes to the pound, the probability of him getting a small puppy is $0.1$. The probability of him getting a medium puppy is $0.35$, and the probability of him getting a large puppy is $0.55$."
   ]
  },
  {
   "cell_type": "markdown",
   "metadata": {},
   "source": [
    "### 3.1) What is the probability of Thomas getting a small puppy?\n",
    "Show your work, not just the final result"
   ]
  },
  {
   "cell_type": "code",
   "execution_count": 7,
   "metadata": {},
   "outputs": [
    {
     "data": {
      "text/plain": [
       "0.2"
      ]
     },
     "execution_count": 7,
     "metadata": {},
     "output_type": "execute_result"
    }
   ],
   "source": [
    "# Code here to find the probability\n",
    "\n",
    "\n",
    "P_smallpup_pet_store = 0.6*0.2\n",
    "P_smallpup_pound = 0.1*0.8\n",
    "\n",
    "P_smallpup = P_smallpup_pet_store + P_smallpup_pound\n",
    "P_smallpup"
   ]
  },
  {
   "cell_type": "markdown",
   "metadata": {},
   "source": [
    "### 3.2) Given that he got a large puppy, what is the probability that Thomas went to the pet store?\n",
    "Show your work, not just the final result"
   ]
  },
  {
   "cell_type": "code",
   "execution_count": 11,
   "metadata": {},
   "outputs": [
    {
     "data": {
      "text/plain": [
       "0.008695652173913044"
      ]
     },
     "execution_count": 11,
     "metadata": {},
     "output_type": "execute_result"
    }
   ],
   "source": [
    "# Code here to find the probability\n",
    "\n",
    "p_large_puppy = 0.1*0.2 + 0.55*0.8\n",
    "p_pet_store = 0.2\n",
    "p_large_puppy_from_pet_store = 0.1*0.2\n",
    "\n",
    "p_pet_store_given_large_puppy = (p_large_puppy_pet_store*p_pet_store)/p_large_puppy\n",
    "\n",
    "p_pet_store_given_large_puppy "
   ]
  },
  {
   "cell_type": "markdown",
   "metadata": {},
   "source": [
    "### 3.3) Given that Thomas got a small puppy, is it more likely that he went to the pet store or to the pound?\n",
    "Show your work, not just the final result"
   ]
  },
  {
   "cell_type": "code",
   "execution_count": null,
   "metadata": {},
   "outputs": [],
   "source": [
    "\"\"\"\n",
    "Written answer here for which is more likely\n",
    "\"\"\"\n",
    "# He more likely went to the pet store "
   ]
  },
  {
   "cell_type": "markdown",
   "metadata": {},
   "source": [
    "### 3.4) For Question 3.2, what are the prior, posterior, and likelihood?"
   ]
  },
  {
   "cell_type": "code",
   "execution_count": null,
   "metadata": {},
   "outputs": [],
   "source": [
    "\"\"\"\n",
    "Written answer here for the prior \n",
    "Written answer here for the posterior\n",
    "Written answer here for the likelihood\n",
    "\"\"\"\n",
    "\n",
    "# prior = p_pet_store and p_large_puppy\n",
    "\n",
    "# posterior = p_pet_store_given_large_puppy\n",
    "\n",
    "# likelihood = p_large_puppy_from_pet_store "
   ]
  },
  {
   "cell_type": "markdown",
   "metadata": {},
   "source": [
    "---\n",
    "## Part 4: Linear Regression [Suggested Time: 10 min]\n",
    "---\n",
    "\n",
    "In this section, you'll be using the Advertising data, and you'll be creating linear models that are more complicated than a simple linear regression. The relevant modules have already been imported at the beginning of this notebook. We'll load and prepare the dataset for you below."
   ]
  },
  {
   "cell_type": "code",
   "execution_count": 2,
   "metadata": {},
   "outputs": [
    {
     "data": {
      "text/html": [
       "<div>\n",
       "<style scoped>\n",
       "    .dataframe tbody tr th:only-of-type {\n",
       "        vertical-align: middle;\n",
       "    }\n",
       "\n",
       "    .dataframe tbody tr th {\n",
       "        vertical-align: top;\n",
       "    }\n",
       "\n",
       "    .dataframe thead th {\n",
       "        text-align: right;\n",
       "    }\n",
       "</style>\n",
       "<table border=\"1\" class=\"dataframe\">\n",
       "  <thead>\n",
       "    <tr style=\"text-align: right;\">\n",
       "      <th></th>\n",
       "      <th>TV</th>\n",
       "      <th>radio</th>\n",
       "      <th>newspaper</th>\n",
       "      <th>sales</th>\n",
       "    </tr>\n",
       "  </thead>\n",
       "  <tbody>\n",
       "    <tr>\n",
       "      <td>count</td>\n",
       "      <td>200.000000</td>\n",
       "      <td>200.000000</td>\n",
       "      <td>200.000000</td>\n",
       "      <td>200.000000</td>\n",
       "    </tr>\n",
       "    <tr>\n",
       "      <td>mean</td>\n",
       "      <td>147.042500</td>\n",
       "      <td>23.264000</td>\n",
       "      <td>30.554000</td>\n",
       "      <td>14.022500</td>\n",
       "    </tr>\n",
       "    <tr>\n",
       "      <td>std</td>\n",
       "      <td>85.854236</td>\n",
       "      <td>14.846809</td>\n",
       "      <td>21.778621</td>\n",
       "      <td>5.217457</td>\n",
       "    </tr>\n",
       "    <tr>\n",
       "      <td>min</td>\n",
       "      <td>0.700000</td>\n",
       "      <td>0.000000</td>\n",
       "      <td>0.300000</td>\n",
       "      <td>1.600000</td>\n",
       "    </tr>\n",
       "    <tr>\n",
       "      <td>25%</td>\n",
       "      <td>74.375000</td>\n",
       "      <td>9.975000</td>\n",
       "      <td>12.750000</td>\n",
       "      <td>10.375000</td>\n",
       "    </tr>\n",
       "    <tr>\n",
       "      <td>50%</td>\n",
       "      <td>149.750000</td>\n",
       "      <td>22.900000</td>\n",
       "      <td>25.750000</td>\n",
       "      <td>12.900000</td>\n",
       "    </tr>\n",
       "    <tr>\n",
       "      <td>75%</td>\n",
       "      <td>218.825000</td>\n",
       "      <td>36.525000</td>\n",
       "      <td>45.100000</td>\n",
       "      <td>17.400000</td>\n",
       "    </tr>\n",
       "    <tr>\n",
       "      <td>max</td>\n",
       "      <td>296.400000</td>\n",
       "      <td>49.600000</td>\n",
       "      <td>114.000000</td>\n",
       "      <td>27.000000</td>\n",
       "    </tr>\n",
       "  </tbody>\n",
       "</table>\n",
       "</div>"
      ],
      "text/plain": [
       "               TV       radio   newspaper       sales\n",
       "count  200.000000  200.000000  200.000000  200.000000\n",
       "mean   147.042500   23.264000   30.554000   14.022500\n",
       "std     85.854236   14.846809   21.778621    5.217457\n",
       "min      0.700000    0.000000    0.300000    1.600000\n",
       "25%     74.375000    9.975000   12.750000   10.375000\n",
       "50%    149.750000   22.900000   25.750000   12.900000\n",
       "75%    218.825000   36.525000   45.100000   17.400000\n",
       "max    296.400000   49.600000  114.000000   27.000000"
      ]
     },
     "execution_count": 2,
     "metadata": {},
     "output_type": "execute_result"
    }
   ],
   "source": [
    "# Run this cell without changes\n",
    "\n",
    "data = pd.read_csv('data/advertising.csv').drop('Unnamed: 0', axis=1)\n",
    "data.describe()"
   ]
  },
  {
   "cell_type": "code",
   "execution_count": 3,
   "metadata": {},
   "outputs": [],
   "source": [
    "# Run this cell without changes\n",
    "\n",
    "X = data.drop('sales', axis=1)\n",
    "y = data['sales']"
   ]
  },
  {
   "cell_type": "markdown",
   "metadata": {},
   "source": [
    "In the linear regression section of the curriculum, you analyzed how TV, Radio, and Newspaper spendings individually affected the Sales figures. Here, we'll use all three together in a multiple linear regression model!\n",
    "\n",
    "### 4.1) Create a Correlation Matrix for `X`."
   ]
  },
  {
   "cell_type": "code",
   "execution_count": 4,
   "metadata": {},
   "outputs": [
    {
     "data": {
      "text/html": [
       "<div>\n",
       "<style scoped>\n",
       "    .dataframe tbody tr th:only-of-type {\n",
       "        vertical-align: middle;\n",
       "    }\n",
       "\n",
       "    .dataframe tbody tr th {\n",
       "        vertical-align: top;\n",
       "    }\n",
       "\n",
       "    .dataframe thead th {\n",
       "        text-align: right;\n",
       "    }\n",
       "</style>\n",
       "<table border=\"1\" class=\"dataframe\">\n",
       "  <thead>\n",
       "    <tr style=\"text-align: right;\">\n",
       "      <th></th>\n",
       "      <th>TV</th>\n",
       "      <th>radio</th>\n",
       "      <th>newspaper</th>\n",
       "      <th>sales</th>\n",
       "    </tr>\n",
       "  </thead>\n",
       "  <tbody>\n",
       "    <tr>\n",
       "      <td>TV</td>\n",
       "      <td>1.000000</td>\n",
       "      <td>0.054809</td>\n",
       "      <td>0.056648</td>\n",
       "      <td>0.782224</td>\n",
       "    </tr>\n",
       "    <tr>\n",
       "      <td>radio</td>\n",
       "      <td>0.054809</td>\n",
       "      <td>1.000000</td>\n",
       "      <td>0.354104</td>\n",
       "      <td>0.576223</td>\n",
       "    </tr>\n",
       "    <tr>\n",
       "      <td>newspaper</td>\n",
       "      <td>0.056648</td>\n",
       "      <td>0.354104</td>\n",
       "      <td>1.000000</td>\n",
       "      <td>0.228299</td>\n",
       "    </tr>\n",
       "    <tr>\n",
       "      <td>sales</td>\n",
       "      <td>0.782224</td>\n",
       "      <td>0.576223</td>\n",
       "      <td>0.228299</td>\n",
       "      <td>1.000000</td>\n",
       "    </tr>\n",
       "  </tbody>\n",
       "</table>\n",
       "</div>"
      ],
      "text/plain": [
       "                 TV     radio  newspaper     sales\n",
       "TV         1.000000  0.054809   0.056648  0.782224\n",
       "radio      0.054809  1.000000   0.354104  0.576223\n",
       "newspaper  0.056648  0.354104   1.000000  0.228299\n",
       "sales      0.782224  0.576223   0.228299  1.000000"
      ]
     },
     "execution_count": 4,
     "metadata": {},
     "output_type": "execute_result"
    }
   ],
   "source": [
    "corr = data.corr() # Code here \n",
    "corr\n"
   ]
  },
  {
   "cell_type": "code",
   "execution_count": 5,
   "metadata": {},
   "outputs": [
    {
     "data": {
      "image/png": "[encoded data removed]",
      "text/plain": [
       "<Figure size 288x288 with 2 Axes>"
      ]
     },
     "metadata": {
      "needs_background": "light"
     },
     "output_type": "display_data"
    }
   ],
   "source": [
    "plt.matshow(data.corr())\n",
    "plt.xticks(range(len(data.columns)), data.columns)\n",
    "plt.yticks(range(len(data.columns)), data.columns)\n",
    "plt.colorbar()\n",
    "plt.show()"
   ]
  },
  {
   "cell_type": "markdown",
   "metadata": {},
   "source": [
    "### 4.2) Based on this correlation matrix only, would you recommend to use `TV`, `radio`, and `newspaper` in the same multiple linear regression model?"
   ]
  },
  {
   "cell_type": "code",
   "execution_count": null,
   "metadata": {},
   "outputs": [],
   "source": [
    "\"\"\"\n",
    "Written answer here\n",
    "\"\"\"\n",
    "\n",
    "# I would use TV and radio for sure as they show higher correlation with sales. Newspaper showing lower coorelation and may be considered in the 2nd interation of the model."
   ]
  },
  {
   "cell_type": "markdown",
   "metadata": {},
   "source": [
    "### 4.3) Use StatsModels' `ols`-function to create a multiple linear regression model with `TV`, `radio`, and `newspaper` as independent variables and `sales` as the dependent variable. \n",
    "\n",
    "**Required output:** the model summary of this multiple regression model."
   ]
  },
  {
   "cell_type": "code",
   "execution_count": 6,
   "metadata": {},
   "outputs": [
    {
     "data": {
      "text/html": [
       "<table class=\"simpletable\">\n",
       "<caption>OLS Regression Results</caption>\n",
       "<tr>\n",
       "  <th>Dep. Variable:</th>          <td>sales</td>      <th>  R-squared:         </th> <td>   0.897</td>\n",
       "</tr>\n",
       "<tr>\n",
       "  <th>Model:</th>                   <td>OLS</td>       <th>  Adj. R-squared:    </th> <td>   0.896</td>\n",
       "</tr>\n",
       "<tr>\n",
       "  <th>Method:</th>             <td>Least Squares</td>  <th>  F-statistic:       </th> <td>   859.6</td>\n",
       "</tr>\n",
       "<tr>\n",
       "  <th>Date:</th>             <td>Thu, 19 Mar 2020</td> <th>  Prob (F-statistic):</th> <td>4.83e-98</td>\n",
       "</tr>\n",
       "<tr>\n",
       "  <th>Time:</th>                 <td>09:43:59</td>     <th>  Log-Likelihood:    </th> <td> -386.20</td>\n",
       "</tr>\n",
       "<tr>\n",
       "  <th>No. Observations:</th>      <td>   200</td>      <th>  AIC:               </th> <td>   778.4</td>\n",
       "</tr>\n",
       "<tr>\n",
       "  <th>Df Residuals:</th>          <td>   197</td>      <th>  BIC:               </th> <td>   788.3</td>\n",
       "</tr>\n",
       "<tr>\n",
       "  <th>Df Model:</th>              <td>     2</td>      <th>                     </th>     <td> </td>   \n",
       "</tr>\n",
       "<tr>\n",
       "  <th>Covariance Type:</th>      <td>nonrobust</td>    <th>                     </th>     <td> </td>   \n",
       "</tr>\n",
       "</table>\n",
       "<table class=\"simpletable\">\n",
       "<tr>\n",
       "      <td></td>         <th>coef</th>     <th>std err</th>      <th>t</th>      <th>P>|t|</th>  <th>[0.025</th>    <th>0.975]</th>  \n",
       "</tr>\n",
       "<tr>\n",
       "  <th>Intercept</th> <td>    2.9211</td> <td>    0.294</td> <td>    9.919</td> <td> 0.000</td> <td>    2.340</td> <td>    3.502</td>\n",
       "</tr>\n",
       "<tr>\n",
       "  <th>TV</th>        <td>    0.0458</td> <td>    0.001</td> <td>   32.909</td> <td> 0.000</td> <td>    0.043</td> <td>    0.048</td>\n",
       "</tr>\n",
       "<tr>\n",
       "  <th>radio</th>     <td>    0.1880</td> <td>    0.008</td> <td>   23.382</td> <td> 0.000</td> <td>    0.172</td> <td>    0.204</td>\n",
       "</tr>\n",
       "</table>\n",
       "<table class=\"simpletable\">\n",
       "<tr>\n",
       "  <th>Omnibus:</th>       <td>60.022</td> <th>  Durbin-Watson:     </th> <td>   2.081</td>\n",
       "</tr>\n",
       "<tr>\n",
       "  <th>Prob(Omnibus):</th> <td> 0.000</td> <th>  Jarque-Bera (JB):  </th> <td> 148.679</td>\n",
       "</tr>\n",
       "<tr>\n",
       "  <th>Skew:</th>          <td>-1.323</td> <th>  Prob(JB):          </th> <td>5.19e-33</td>\n",
       "</tr>\n",
       "<tr>\n",
       "  <th>Kurtosis:</th>      <td> 6.292</td> <th>  Cond. No.          </th> <td>    425.</td>\n",
       "</tr>\n",
       "</table><br/><br/>Warnings:<br/>[1] Standard Errors assume that the covariance matrix of the errors is correctly specified."
      ],
      "text/plain": [
       "<class 'statsmodels.iolib.summary.Summary'>\n",
       "\"\"\"\n",
       "                            OLS Regression Results                            \n",
       "==============================================================================\n",
       "Dep. Variable:                  sales   R-squared:                       0.897\n",
       "Model:                            OLS   Adj. R-squared:                  0.896\n",
       "Method:                 Least Squares   F-statistic:                     859.6\n",
       "Date:                Thu, 19 Mar 2020   Prob (F-statistic):           4.83e-98\n",
       "Time:                        09:43:59   Log-Likelihood:                -386.20\n",
       "No. Observations:                 200   AIC:                             778.4\n",
       "Df Residuals:                     197   BIC:                             788.3\n",
       "Df Model:                           2                                         \n",
       "Covariance Type:            nonrobust                                         \n",
       "==============================================================================\n",
       "                 coef    std err          t      P>|t|      [0.025      0.975]\n",
       "------------------------------------------------------------------------------\n",
       "Intercept      2.9211      0.294      9.919      0.000       2.340       3.502\n",
       "TV             0.0458      0.001     32.909      0.000       0.043       0.048\n",
       "radio          0.1880      0.008     23.382      0.000       0.172       0.204\n",
       "==============================================================================\n",
       "Omnibus:                       60.022   Durbin-Watson:                   2.081\n",
       "Prob(Omnibus):                  0.000   Jarque-Bera (JB):              148.679\n",
       "Skew:                          -1.323   Prob(JB):                     5.19e-33\n",
       "Kurtosis:                       6.292   Cond. No.                         425.\n",
       "==============================================================================\n",
       "\n",
       "Warnings:\n",
       "[1] Standard Errors assume that the covariance matrix of the errors is correctly specified.\n",
       "\"\"\""
      ]
     },
     "execution_count": 6,
     "metadata": {},
     "output_type": "execute_result"
    }
   ],
   "source": [
    "# Code here \n",
    "mlr_model= ols(formula='sales~TV+radio',data=data).fit()\n",
    "mlr_model.summary()"
   ]
  },
  {
   "cell_type": "markdown",
   "metadata": {},
   "source": [
    "### 4.4) Do we have any statistically significant coefficients? If the answer is yes, list them below."
   ]
  },
  {
   "cell_type": "code",
   "execution_count": null,
   "metadata": {},
   "outputs": [],
   "source": [
    "\"\"\"\n",
    "Written answer here\n",
    "\"\"\"\n",
    "# The co-efficients for TV (0.0458) and radio (0.1880) are both significant. Every additional unit of sales is driven by 0.0458 unit change in TV. Similarly every unit change in sales sees a 0.1880 unit change in radio.\n"
   ]
  }
 ],
 "metadata": {
  "kernelspec": {
   "display_name": "Python 3",
   "language": "python",
   "name": "python3"
  },
  "language_info": {
   "codemirror_mode": {
    "name": "ipython",
    "version": 3
   },
   "file_extension": ".py",
   "mimetype": "text/x-python",
   "name": "python",
   "nbconvert_exporter": "python",
   "pygments_lexer": "ipython3",
   "version": "3.7.4"
  },
  "toc": {
   "base_numbering": 1,
   "nav_menu": {},
   "number_sections": true,
   "sideBar": true,
   "skip_h1_title": false,
   "title_cell": "Table of Contents",
   "title_sidebar": "Contents",
   "toc_cell": false,
   "toc_position": {},
   "toc_section_display": true,
   "toc_window_display": false
  }
 },
 "nbformat": 4,
 "nbformat_minor": 4
}
